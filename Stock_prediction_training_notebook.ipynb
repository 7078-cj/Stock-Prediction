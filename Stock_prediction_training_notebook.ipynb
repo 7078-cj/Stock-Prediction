{
  "nbformat": 4,
  "nbformat_minor": 0,
  "metadata": {
    "colab": {
      "provenance": []
    },
    "kernelspec": {
      "name": "python3",
      "display_name": "Python 3"
    },
    "language_info": {
      "name": "python"
    }
  },
  "cells": [
    {
      "cell_type": "code",
      "execution_count": 1,
      "metadata": {
        "id": "Xl_fixQxkWaX"
      },
      "outputs": [],
      "source": [
        "!pip install yfinance --quiet\n"
      ]
    },
    {
      "cell_type": "code",
      "source": [
        "import yfinance as yf\n",
        "import pandas as pd\n",
        "\n",
        "\n",
        "ticker = \"AAPL\"\n",
        "\n",
        "data = yf.download(ticker, period=\"10y\", interval=\"1d\")\n",
        "\n",
        "\n",
        "data.reset_index(inplace=True)\n",
        "\n",
        "print(data.head())\n",
        "print(data.shape)\n",
        "\n",
        "\n",
        "csv_path = f\"{ticker}_10y_OHLCV.csv\"\n",
        "data.to_csv(csv_path, index=False)\n",
        "print(f\"Saved CSV in Colab: {csv_path}\")\n",
        "\n"
      ],
      "metadata": {
        "colab": {
          "base_uri": "https://localhost:8080/"
        },
        "id": "jrLI26gskdcq",
        "outputId": "c056dc79-e2d9-42ad-fa31-1020ee33d81b"
      },
      "execution_count": 4,
      "outputs": [
        {
          "output_type": "stream",
          "name": "stderr",
          "text": [
            "/tmp/ipython-input-3014207812.py:8: FutureWarning: YF.download() has changed argument auto_adjust default to True\n",
            "  data = yf.download(ticker, period=\"10y\", interval=\"1d\")\n",
            "[*********************100%***********************]  1 of 1 completed"
          ]
        },
        {
          "output_type": "stream",
          "name": "stdout",
          "text": [
            "Price        Date      Close       High        Low       Open    Volume\n",
            "Ticker                  MSFT       MSFT       MSFT       MSFT      MSFT\n",
            "0      2015-08-18  41.257660  41.397309  40.760159  40.882352  23574100\n",
            "1      2015-08-19  40.681591  41.091812  40.411019  40.829967  31485500\n",
            "2      2015-08-20  39.852440  40.559416  39.852440  40.210291  36238200\n",
            "3      2015-08-21  37.591862  39.695330  37.591862  39.538224  70053100\n",
            "4      2015-08-24  36.378651  37.260186  34.667947  35.305097  88753700\n",
            "(2515, 6)\n",
            "Saved CSV in Colab: MSFT_10y_OHLCV.csv\n"
          ]
        },
        {
          "output_type": "stream",
          "name": "stderr",
          "text": [
            "\n"
          ]
        }
      ]
    },
    {
      "cell_type": "code",
      "source": [
        "\n",
        "from tensorflow import keras\n",
        "from sklearn.preprocessing import StandardScaler\n",
        "import numpy as np\n",
        "import pandas as pd\n",
        "import matplotlib.pyplot as plt\n",
        "import seaborn as sns\n",
        "import os\n",
        "from datetime import datetime"
      ],
      "metadata": {
        "id": "3Slqlj_Nlter"
      },
      "execution_count": 90,
      "outputs": []
    },
    {
      "cell_type": "code",
      "source": [
        "\n",
        "data = pd.read_csv(\"AAPL_10y_OHLCV.csv\")\n",
        "print(data.head())\n",
        "print(data.info())\n",
        "print(data.describe())"
      ],
      "metadata": {
        "colab": {
          "base_uri": "https://localhost:8080/"
        },
        "id": "AprxUNxTl63l",
        "outputId": "d692556b-2487-4fef-d167-fb14f2c6024a"
      },
      "execution_count": 91,
      "outputs": [
        {
          "output_type": "stream",
          "name": "stdout",
          "text": [
            "         Date               Close                High                 Low  \\\n",
            "0         NaN                AAPL                AAPL                AAPL   \n",
            "1  2015-08-18  26.180524826049805   26.39176737758443   26.07040979397144   \n",
            "2  2015-08-19  25.845685958862305  26.185020304557398  25.771526115954153   \n",
            "3  2015-08-20   25.31534194946289  25.697374825404818  25.086120852281372   \n",
            "4  2015-08-21    23.7669734954834  25.146788168407536  23.742253549020607   \n",
            "\n",
            "                 Open     Volume  \n",
            "0                AAPL       AAPL  \n",
            "1  26.164794107181464  138242800  \n",
            "2  26.090635985139684  193146000  \n",
            "3   25.63669966116292  274006400  \n",
            "4   24.81644135160456  513102000  \n",
            "<class 'pandas.core.frame.DataFrame'>\n",
            "RangeIndex: 2516 entries, 0 to 2515\n",
            "Data columns (total 6 columns):\n",
            " #   Column  Non-Null Count  Dtype \n",
            "---  ------  --------------  ----- \n",
            " 0   Date    2515 non-null   object\n",
            " 1   Close   2516 non-null   object\n",
            " 2   High    2516 non-null   object\n",
            " 3   Low     2516 non-null   object\n",
            " 4   Open    2516 non-null   object\n",
            " 5   Volume  2516 non-null   object\n",
            "dtypes: object(6)\n",
            "memory usage: 118.1+ KB\n",
            "None\n",
            "              Date             Close               High                 Low  \\\n",
            "count         2515              2516               2516                2516   \n",
            "unique        2515              2483               2516                2516   \n",
            "top     2025-08-18  41.4583625793457  233.1199951171875  231.02000427246094   \n",
            "freq             1                 2                  1                   1   \n",
            "\n",
            "                      Open     Volume  \n",
            "count                 2516       2516  \n",
            "unique                2516       2509  \n",
            "top     231.77999877929688  150347200  \n",
            "freq                     1          2  \n"
          ]
        }
      ]
    },
    {
      "cell_type": "code",
      "source": [
        "data['Date'] = pd.to_datetime(data['Date'])\n",
        "\n",
        "cols = ['Open', 'High', 'Low', 'Close', 'Volume']\n",
        "\n",
        "for col in cols:\n",
        "    data[col] = pd.to_numeric(data[col].str.replace(',', ''), errors='coerce')\n",
        "\n",
        "print(data.dtypes)"
      ],
      "metadata": {
        "colab": {
          "base_uri": "https://localhost:8080/"
        },
        "id": "P-9lraBnmUdj",
        "outputId": "4ec002ab-46ef-4b3e-de08-ca89f6f3186f"
      },
      "execution_count": 92,
      "outputs": [
        {
          "output_type": "stream",
          "name": "stdout",
          "text": [
            "Date      datetime64[ns]\n",
            "Close            float64\n",
            "High             float64\n",
            "Low              float64\n",
            "Open             float64\n",
            "Volume           float64\n",
            "dtype: object\n"
          ]
        }
      ]
    },
    {
      "cell_type": "code",
      "source": [
        "print(data.head())\n",
        "print(data.info())\n",
        "print(data.describe())"
      ],
      "metadata": {
        "colab": {
          "base_uri": "https://localhost:8080/"
        },
        "id": "JsefHjFomcuF",
        "outputId": "e48d214a-2f65-45d1-a4ad-358bfbd85744"
      },
      "execution_count": 93,
      "outputs": [
        {
          "output_type": "stream",
          "name": "stdout",
          "text": [
            "        Date      Close       High        Low       Open       Volume\n",
            "0        NaT        NaN        NaN        NaN        NaN          NaN\n",
            "1 2015-08-18  26.180525  26.391767  26.070410  26.164794  138242800.0\n",
            "2 2015-08-19  25.845686  26.185020  25.771526  26.090636  193146000.0\n",
            "3 2015-08-20  25.315342  25.697375  25.086121  25.636700  274006400.0\n",
            "4 2015-08-21  23.766973  25.146788  23.742254  24.816441  513102000.0\n",
            "<class 'pandas.core.frame.DataFrame'>\n",
            "RangeIndex: 2516 entries, 0 to 2515\n",
            "Data columns (total 6 columns):\n",
            " #   Column  Non-Null Count  Dtype         \n",
            "---  ------  --------------  -----         \n",
            " 0   Date    2515 non-null   datetime64[ns]\n",
            " 1   Close   2515 non-null   float64       \n",
            " 2   High    2515 non-null   float64       \n",
            " 3   Low     2515 non-null   float64       \n",
            " 4   Open    2515 non-null   float64       \n",
            " 5   Volume  2515 non-null   float64       \n",
            "dtypes: datetime64[ns](1), float64(5)\n",
            "memory usage: 118.1 KB\n",
            "None\n",
            "                                Date        Close         High          Low  \\\n",
            "count                           2515  2515.000000  2515.000000  2515.000000   \n",
            "mean   2020-08-15 02:16:16.222663936   105.643520   106.705192   104.472214   \n",
            "min              2015-08-18 00:00:00    20.624048    20.927682    20.425434   \n",
            "25%              2018-02-14 12:00:00    39.825424    40.295216    39.571076   \n",
            "50%              2020-08-14 00:00:00   107.076767   109.051400   105.735888   \n",
            "75%              2023-02-13 12:00:00   166.599144   168.227464   165.149386   \n",
            "max              2025-08-18 00:00:00   258.103729   259.179926   256.718662   \n",
            "std                              NaN    69.408646    70.090481    68.643256   \n",
            "\n",
            "              Open        Volume  \n",
            "count  2515.000000  2.515000e+03  \n",
            "mean    105.542244  1.076084e+08  \n",
            "min      20.546432  8.803917e+06  \n",
            "25%      39.935598  6.557530e+07  \n",
            "50%     107.199633  9.296430e+07  \n",
            "75%     166.942485  1.305774e+08  \n",
            "max     257.276679  6.488252e+08  \n",
            "std      69.332485  6.236026e+07  \n"
          ]
        }
      ]
    },
    {
      "cell_type": "code",
      "source": [
        "stock_data = data.filter(['Open', 'High', 'Low', 'Close'])\n",
        "stock_data = stock_data.fillna(method='ffill')  # forward-fill NaNs\n",
        "stock_data = stock_data.dropna()\n",
        "dataset = stock_data.values\n",
        "training_data_len = int(np.ceil(len(dataset) * 0.95))"
      ],
      "metadata": {
        "colab": {
          "base_uri": "https://localhost:8080/"
        },
        "id": "KesaEBvumfFN",
        "outputId": "bfecd3af-841a-47fc-fb4d-7f2dde7105ee"
      },
      "execution_count": 94,
      "outputs": [
        {
          "output_type": "stream",
          "name": "stderr",
          "text": [
            "/tmp/ipython-input-3773794740.py:2: FutureWarning: DataFrame.fillna with 'method' is deprecated and will raise in a future version. Use obj.ffill() or obj.bfill() instead.\n",
            "  stock_data = stock_data.fillna(method='ffill')  # forward-fill NaNs\n"
          ]
        }
      ]
    },
    {
      "cell_type": "code",
      "source": [
        "scaler = StandardScaler()\n",
        "scaled_data = scaler.fit_transform(dataset)\n",
        "\n",
        "training_data = scaled_data[:training_data_len]\n",
        "\n",
        "X_train, y_train = [], []\n",
        "\n",
        "\n",
        "# Create a sliding window for our stock (60 days)\n",
        "for i in range(60, len(training_data)):\n",
        "    X_train.append(training_data[i-60:i])\n",
        "    y_train.append(training_data[i,0])\n",
        "\n",
        "X_train, y_train = np.array(X_train), np.array(y_train)\n",
        "\n",
        "X_train = np.reshape(X_train, (X_train.shape[0], X_train.shape[1], 4))\n",
        "\n",
        "print(X_train.shape)\n",
        "print(X_train[:5])\n",
        "print(y_train.shape)\n",
        "print(y_train[:5])\n"
      ],
      "metadata": {
        "colab": {
          "base_uri": "https://localhost:8080/"
        },
        "id": "IPDdRXX2m6JT",
        "outputId": "1cf52a01-b998-4ccd-db27-f30fc84a852f"
      },
      "execution_count": 95,
      "outputs": [
        {
          "output_type": "stream",
          "name": "stdout",
          "text": [
            "(2330, 60, 4)\n",
            "[[[-1.14510877 -1.1460814  -1.14239039 -1.14508497]\n",
            "  [-1.14617858 -1.1490317  -1.14674541 -1.14991009]\n",
            "  [-1.15272712 -1.15599046 -1.15673243 -1.15755251]\n",
            "  ...\n",
            "  [-1.12825587 -1.1303953  -1.12560436 -1.12863987]\n",
            "  [-1.1287443  -1.13039535 -1.12747885 -1.13023351]\n",
            "  [-1.14196284 -1.14244035 -1.14059995 -1.14259198]]\n",
            "\n",
            " [[-1.14617858 -1.1490317  -1.14674541 -1.14991009]\n",
            "  [-1.15272712 -1.15599046 -1.15673243 -1.15755251]\n",
            "  [-1.16456027 -1.16384739 -1.17631389 -1.17986495]\n",
            "  ...\n",
            "  [-1.1287443  -1.13039535 -1.12747885 -1.13023351]\n",
            "  [-1.14196284 -1.14244035 -1.14059995 -1.14259198]\n",
            "  [-1.14368838 -1.1445337  -1.14339512 -1.1447384 ]]\n",
            "\n",
            " [[-1.15272712 -1.15599046 -1.15673243 -1.15755251]\n",
            "  [-1.16456027 -1.16384739 -1.17631389 -1.17986495]\n",
            "  [-1.2150045  -1.17378864 -1.22101039 -1.18841422]\n",
            "  ...\n",
            "  [-1.14196284 -1.14244035 -1.14059995 -1.14259198]\n",
            "  [-1.14368838 -1.1445337  -1.14339512 -1.1447384 ]\n",
            "  [-1.14404649 -1.14646603 -1.14194816 -1.14600675]]\n",
            "\n",
            " [[-1.16456027 -1.16384739 -1.17631389 -1.17986495]\n",
            "  [-1.2150045  -1.17378864 -1.22101039 -1.18841422]\n",
            "  [-1.16235568 -1.16638073 -1.18335392 -1.18640638]\n",
            "  ...\n",
            "  [-1.14368838 -1.1445337  -1.14339512 -1.1447384 ]\n",
            "  [-1.14404649 -1.14646603 -1.14194816 -1.14600675]\n",
            "  [-1.14749768 -1.15049179 -1.15306329 -1.15699931]]\n",
            "\n",
            " [[-1.2150045  -1.17378864 -1.22101039 -1.18841422]\n",
            "  [-1.16235568 -1.16638073 -1.18335392 -1.18640638]\n",
            "  [-1.17538824 -1.17029313 -1.17827851 -1.16713814]\n",
            "  ...\n",
            "  [-1.14404649 -1.14646603 -1.14194816 -1.14600675]\n",
            "  [-1.14749768 -1.15049179 -1.15306329 -1.15699931]\n",
            "  [-1.15993479 -1.15477515 -1.15723962 -1.15101517]]]\n",
            "(2330,)\n",
            "[-1.14368838 -1.14404649 -1.14749768 -1.15993479 -1.1484093 ]\n"
          ]
        }
      ]
    },
    {
      "cell_type": "code",
      "source": [
        "\n",
        "model = keras.models.Sequential()\n",
        "\n",
        "model.add(keras.layers.LSTM(64, return_sequences=True, input_shape=(X_train.shape[1],4)))\n",
        "\n",
        "model.add(keras.layers.LSTM(64, return_sequences=False))\n",
        "\n",
        "model.add(keras.layers.Dense(128, activation='relu'))\n",
        "\n",
        "model.add(keras.layers.Dropout(0.5))\n",
        "\n",
        "model.add(keras.layers.Dense(1))\n",
        "\n",
        "model.summary()\n",
        "model.compile(\n",
        "    optimizer='adam',\n",
        "    loss='mae',\n",
        "    metrics=[keras.metrics.RootMeanSquaredError()]\n",
        ")"
      ],
      "metadata": {
        "colab": {
          "base_uri": "https://localhost:8080/",
          "height": 361
        },
        "id": "8olc-CLmpLWs",
        "outputId": "db454450-738a-4e6a-fe60-3e8434227010"
      },
      "execution_count": 96,
      "outputs": [
        {
          "output_type": "stream",
          "name": "stderr",
          "text": [
            "/usr/local/lib/python3.11/dist-packages/keras/src/layers/rnn/rnn.py:199: UserWarning: Do not pass an `input_shape`/`input_dim` argument to a layer. When using Sequential models, prefer using an `Input(shape)` object as the first layer in the model instead.\n",
            "  super().__init__(**kwargs)\n"
          ]
        },
        {
          "output_type": "display_data",
          "data": {
            "text/plain": [
              "\u001b[1mModel: \"sequential_4\"\u001b[0m\n"
            ],
            "text/html": [
              "<pre style=\"white-space:pre;overflow-x:auto;line-height:normal;font-family:Menlo,'DejaVu Sans Mono',consolas,'Courier New',monospace\"><span style=\"font-weight: bold\">Model: \"sequential_4\"</span>\n",
              "</pre>\n"
            ]
          },
          "metadata": {}
        },
        {
          "output_type": "display_data",
          "data": {
            "text/plain": [
              "┏━━━━━━━━━━━━━━━━━━━━━━━━━━━━━━━━━┳━━━━━━━━━━━━━━━━━━━━━━━━┳━━━━━━━━━━━━━━━┓\n",
              "┃\u001b[1m \u001b[0m\u001b[1mLayer (type)                   \u001b[0m\u001b[1m \u001b[0m┃\u001b[1m \u001b[0m\u001b[1mOutput Shape          \u001b[0m\u001b[1m \u001b[0m┃\u001b[1m \u001b[0m\u001b[1m      Param #\u001b[0m\u001b[1m \u001b[0m┃\n",
              "┡━━━━━━━━━━━━━━━━━━━━━━━━━━━━━━━━━╇━━━━━━━━━━━━━━━━━━━━━━━━╇━━━━━━━━━━━━━━━┩\n",
              "│ lstm_8 (\u001b[38;5;33mLSTM\u001b[0m)                   │ (\u001b[38;5;45mNone\u001b[0m, \u001b[38;5;34m60\u001b[0m, \u001b[38;5;34m64\u001b[0m)         │        \u001b[38;5;34m17,664\u001b[0m │\n",
              "├─────────────────────────────────┼────────────────────────┼───────────────┤\n",
              "│ lstm_9 (\u001b[38;5;33mLSTM\u001b[0m)                   │ (\u001b[38;5;45mNone\u001b[0m, \u001b[38;5;34m64\u001b[0m)             │        \u001b[38;5;34m33,024\u001b[0m │\n",
              "├─────────────────────────────────┼────────────────────────┼───────────────┤\n",
              "│ dense_8 (\u001b[38;5;33mDense\u001b[0m)                 │ (\u001b[38;5;45mNone\u001b[0m, \u001b[38;5;34m128\u001b[0m)            │         \u001b[38;5;34m8,320\u001b[0m │\n",
              "├─────────────────────────────────┼────────────────────────┼───────────────┤\n",
              "│ dropout_4 (\u001b[38;5;33mDropout\u001b[0m)             │ (\u001b[38;5;45mNone\u001b[0m, \u001b[38;5;34m128\u001b[0m)            │             \u001b[38;5;34m0\u001b[0m │\n",
              "├─────────────────────────────────┼────────────────────────┼───────────────┤\n",
              "│ dense_9 (\u001b[38;5;33mDense\u001b[0m)                 │ (\u001b[38;5;45mNone\u001b[0m, \u001b[38;5;34m1\u001b[0m)              │           \u001b[38;5;34m129\u001b[0m │\n",
              "└─────────────────────────────────┴────────────────────────┴───────────────┘\n"
            ],
            "text/html": [
              "<pre style=\"white-space:pre;overflow-x:auto;line-height:normal;font-family:Menlo,'DejaVu Sans Mono',consolas,'Courier New',monospace\">┏━━━━━━━━━━━━━━━━━━━━━━━━━━━━━━━━━┳━━━━━━━━━━━━━━━━━━━━━━━━┳━━━━━━━━━━━━━━━┓\n",
              "┃<span style=\"font-weight: bold\"> Layer (type)                    </span>┃<span style=\"font-weight: bold\"> Output Shape           </span>┃<span style=\"font-weight: bold\">       Param # </span>┃\n",
              "┡━━━━━━━━━━━━━━━━━━━━━━━━━━━━━━━━━╇━━━━━━━━━━━━━━━━━━━━━━━━╇━━━━━━━━━━━━━━━┩\n",
              "│ lstm_8 (<span style=\"color: #0087ff; text-decoration-color: #0087ff\">LSTM</span>)                   │ (<span style=\"color: #00d7ff; text-decoration-color: #00d7ff\">None</span>, <span style=\"color: #00af00; text-decoration-color: #00af00\">60</span>, <span style=\"color: #00af00; text-decoration-color: #00af00\">64</span>)         │        <span style=\"color: #00af00; text-decoration-color: #00af00\">17,664</span> │\n",
              "├─────────────────────────────────┼────────────────────────┼───────────────┤\n",
              "│ lstm_9 (<span style=\"color: #0087ff; text-decoration-color: #0087ff\">LSTM</span>)                   │ (<span style=\"color: #00d7ff; text-decoration-color: #00d7ff\">None</span>, <span style=\"color: #00af00; text-decoration-color: #00af00\">64</span>)             │        <span style=\"color: #00af00; text-decoration-color: #00af00\">33,024</span> │\n",
              "├─────────────────────────────────┼────────────────────────┼───────────────┤\n",
              "│ dense_8 (<span style=\"color: #0087ff; text-decoration-color: #0087ff\">Dense</span>)                 │ (<span style=\"color: #00d7ff; text-decoration-color: #00d7ff\">None</span>, <span style=\"color: #00af00; text-decoration-color: #00af00\">128</span>)            │         <span style=\"color: #00af00; text-decoration-color: #00af00\">8,320</span> │\n",
              "├─────────────────────────────────┼────────────────────────┼───────────────┤\n",
              "│ dropout_4 (<span style=\"color: #0087ff; text-decoration-color: #0087ff\">Dropout</span>)             │ (<span style=\"color: #00d7ff; text-decoration-color: #00d7ff\">None</span>, <span style=\"color: #00af00; text-decoration-color: #00af00\">128</span>)            │             <span style=\"color: #00af00; text-decoration-color: #00af00\">0</span> │\n",
              "├─────────────────────────────────┼────────────────────────┼───────────────┤\n",
              "│ dense_9 (<span style=\"color: #0087ff; text-decoration-color: #0087ff\">Dense</span>)                 │ (<span style=\"color: #00d7ff; text-decoration-color: #00d7ff\">None</span>, <span style=\"color: #00af00; text-decoration-color: #00af00\">1</span>)              │           <span style=\"color: #00af00; text-decoration-color: #00af00\">129</span> │\n",
              "└─────────────────────────────────┴────────────────────────┴───────────────┘\n",
              "</pre>\n"
            ]
          },
          "metadata": {}
        },
        {
          "output_type": "display_data",
          "data": {
            "text/plain": [
              "\u001b[1m Total params: \u001b[0m\u001b[38;5;34m59,137\u001b[0m (231.00 KB)\n"
            ],
            "text/html": [
              "<pre style=\"white-space:pre;overflow-x:auto;line-height:normal;font-family:Menlo,'DejaVu Sans Mono',consolas,'Courier New',monospace\"><span style=\"font-weight: bold\"> Total params: </span><span style=\"color: #00af00; text-decoration-color: #00af00\">59,137</span> (231.00 KB)\n",
              "</pre>\n"
            ]
          },
          "metadata": {}
        },
        {
          "output_type": "display_data",
          "data": {
            "text/plain": [
              "\u001b[1m Trainable params: \u001b[0m\u001b[38;5;34m59,137\u001b[0m (231.00 KB)\n"
            ],
            "text/html": [
              "<pre style=\"white-space:pre;overflow-x:auto;line-height:normal;font-family:Menlo,'DejaVu Sans Mono',consolas,'Courier New',monospace\"><span style=\"font-weight: bold\"> Trainable params: </span><span style=\"color: #00af00; text-decoration-color: #00af00\">59,137</span> (231.00 KB)\n",
              "</pre>\n"
            ]
          },
          "metadata": {}
        },
        {
          "output_type": "display_data",
          "data": {
            "text/plain": [
              "\u001b[1m Non-trainable params: \u001b[0m\u001b[38;5;34m0\u001b[0m (0.00 B)\n"
            ],
            "text/html": [
              "<pre style=\"white-space:pre;overflow-x:auto;line-height:normal;font-family:Menlo,'DejaVu Sans Mono',consolas,'Courier New',monospace\"><span style=\"font-weight: bold\"> Non-trainable params: </span><span style=\"color: #00af00; text-decoration-color: #00af00\">0</span> (0.00 B)\n",
              "</pre>\n"
            ]
          },
          "metadata": {}
        }
      ]
    },
    {
      "cell_type": "code",
      "source": [
        "training = model.fit(X_train, y_train, epochs=50, batch_size=32)"
      ],
      "metadata": {
        "colab": {
          "base_uri": "https://localhost:8080/"
        },
        "id": "L8yhUGQCpMyy",
        "outputId": "d3cb0293-5ac2-4bb9-8138-d6735e57fd4b"
      },
      "execution_count": 97,
      "outputs": [
        {
          "output_type": "stream",
          "name": "stdout",
          "text": [
            "Epoch 1/50\n",
            "\u001b[1m73/73\u001b[0m \u001b[32m━━━━━━━━━━━━━━━━━━━━\u001b[0m\u001b[37m\u001b[0m \u001b[1m8s\u001b[0m 60ms/step - loss: 0.3122 - root_mean_squared_error: 0.4187\n",
            "Epoch 2/50\n",
            "\u001b[1m73/73\u001b[0m \u001b[32m━━━━━━━━━━━━━━━━━━━━\u001b[0m\u001b[37m\u001b[0m \u001b[1m4s\u001b[0m 53ms/step - loss: 0.1191 - root_mean_squared_error: 0.1561\n",
            "Epoch 3/50\n",
            "\u001b[1m73/73\u001b[0m \u001b[32m━━━━━━━━━━━━━━━━━━━━\u001b[0m\u001b[37m\u001b[0m \u001b[1m6s\u001b[0m 70ms/step - loss: 0.1213 - root_mean_squared_error: 0.1584\n",
            "Epoch 4/50\n",
            "\u001b[1m73/73\u001b[0m \u001b[32m━━━━━━━━━━━━━━━━━━━━\u001b[0m\u001b[37m\u001b[0m \u001b[1m4s\u001b[0m 54ms/step - loss: 0.1053 - root_mean_squared_error: 0.1412\n",
            "Epoch 5/50\n",
            "\u001b[1m73/73\u001b[0m \u001b[32m━━━━━━━━━━━━━━━━━━━━\u001b[0m\u001b[37m\u001b[0m \u001b[1m4s\u001b[0m 54ms/step - loss: 0.1126 - root_mean_squared_error: 0.1493\n",
            "Epoch 6/50\n",
            "\u001b[1m73/73\u001b[0m \u001b[32m━━━━━━━━━━━━━━━━━━━━\u001b[0m\u001b[37m\u001b[0m \u001b[1m5s\u001b[0m 72ms/step - loss: 0.1119 - root_mean_squared_error: 0.1506\n",
            "Epoch 7/50\n",
            "\u001b[1m73/73\u001b[0m \u001b[32m━━━━━━━━━━━━━━━━━━━━\u001b[0m\u001b[37m\u001b[0m \u001b[1m9s\u001b[0m 53ms/step - loss: 0.1092 - root_mean_squared_error: 0.1456\n",
            "Epoch 8/50\n",
            "\u001b[1m73/73\u001b[0m \u001b[32m━━━━━━━━━━━━━━━━━━━━\u001b[0m\u001b[37m\u001b[0m \u001b[1m6s\u001b[0m 64ms/step - loss: 0.1079 - root_mean_squared_error: 0.1437\n",
            "Epoch 9/50\n",
            "\u001b[1m73/73\u001b[0m \u001b[32m━━━━━━━━━━━━━━━━━━━━\u001b[0m\u001b[37m\u001b[0m \u001b[1m4s\u001b[0m 53ms/step - loss: 0.1006 - root_mean_squared_error: 0.1341\n",
            "Epoch 10/50\n",
            "\u001b[1m73/73\u001b[0m \u001b[32m━━━━━━━━━━━━━━━━━━━━\u001b[0m\u001b[37m\u001b[0m \u001b[1m6s\u001b[0m 86ms/step - loss: 0.1001 - root_mean_squared_error: 0.1349\n",
            "Epoch 11/50\n",
            "\u001b[1m73/73\u001b[0m \u001b[32m━━━━━━━━━━━━━━━━━━━━\u001b[0m\u001b[37m\u001b[0m \u001b[1m8s\u001b[0m 54ms/step - loss: 0.1079 - root_mean_squared_error: 0.1448\n",
            "Epoch 12/50\n",
            "\u001b[1m73/73\u001b[0m \u001b[32m━━━━━━━━━━━━━━━━━━━━\u001b[0m\u001b[37m\u001b[0m \u001b[1m5s\u001b[0m 71ms/step - loss: 0.1084 - root_mean_squared_error: 0.1448\n",
            "Epoch 13/50\n",
            "\u001b[1m73/73\u001b[0m \u001b[32m━━━━━━━━━━━━━━━━━━━━\u001b[0m\u001b[37m\u001b[0m \u001b[1m4s\u001b[0m 53ms/step - loss: 0.1005 - root_mean_squared_error: 0.1353\n",
            "Epoch 14/50\n",
            "\u001b[1m73/73\u001b[0m \u001b[32m━━━━━━━━━━━━━━━━━━━━\u001b[0m\u001b[37m\u001b[0m \u001b[1m4s\u001b[0m 54ms/step - loss: 0.1009 - root_mean_squared_error: 0.1335\n",
            "Epoch 15/50\n",
            "\u001b[1m73/73\u001b[0m \u001b[32m━━━━━━━━━━━━━━━━━━━━\u001b[0m\u001b[37m\u001b[0m \u001b[1m5s\u001b[0m 71ms/step - loss: 0.1025 - root_mean_squared_error: 0.1391\n",
            "Epoch 16/50\n",
            "\u001b[1m73/73\u001b[0m \u001b[32m━━━━━━━━━━━━━━━━━━━━\u001b[0m\u001b[37m\u001b[0m \u001b[1m4s\u001b[0m 54ms/step - loss: 0.1017 - root_mean_squared_error: 0.1338\n",
            "Epoch 17/50\n",
            "\u001b[1m73/73\u001b[0m \u001b[32m━━━━━━━━━━━━━━━━━━━━\u001b[0m\u001b[37m\u001b[0m \u001b[1m4s\u001b[0m 55ms/step - loss: 0.1015 - root_mean_squared_error: 0.1365\n",
            "Epoch 18/50\n",
            "\u001b[1m73/73\u001b[0m \u001b[32m━━━━━━━━━━━━━━━━━━━━\u001b[0m\u001b[37m\u001b[0m \u001b[1m5s\u001b[0m 70ms/step - loss: 0.1070 - root_mean_squared_error: 0.1454\n",
            "Epoch 19/50\n",
            "\u001b[1m73/73\u001b[0m \u001b[32m━━━━━━━━━━━━━━━━━━━━\u001b[0m\u001b[37m\u001b[0m \u001b[1m4s\u001b[0m 54ms/step - loss: 0.0997 - root_mean_squared_error: 0.1356\n",
            "Epoch 20/50\n",
            "\u001b[1m73/73\u001b[0m \u001b[32m━━━━━━━━━━━━━━━━━━━━\u001b[0m\u001b[37m\u001b[0m \u001b[1m4s\u001b[0m 54ms/step - loss: 0.1015 - root_mean_squared_error: 0.1357\n",
            "Epoch 21/50\n",
            "\u001b[1m73/73\u001b[0m \u001b[32m━━━━━━━━━━━━━━━━━━━━\u001b[0m\u001b[37m\u001b[0m \u001b[1m5s\u001b[0m 71ms/step - loss: 0.1049 - root_mean_squared_error: 0.1394\n",
            "Epoch 22/50\n",
            "\u001b[1m73/73\u001b[0m \u001b[32m━━━━━━━━━━━━━━━━━━━━\u001b[0m\u001b[37m\u001b[0m \u001b[1m4s\u001b[0m 54ms/step - loss: 0.1016 - root_mean_squared_error: 0.1367\n",
            "Epoch 23/50\n",
            "\u001b[1m73/73\u001b[0m \u001b[32m━━━━━━━━━━━━━━━━━━━━\u001b[0m\u001b[37m\u001b[0m \u001b[1m5s\u001b[0m 54ms/step - loss: 0.0991 - root_mean_squared_error: 0.1338\n",
            "Epoch 24/50\n",
            "\u001b[1m73/73\u001b[0m \u001b[32m━━━━━━━━━━━━━━━━━━━━\u001b[0m\u001b[37m\u001b[0m \u001b[1m5s\u001b[0m 71ms/step - loss: 0.1001 - root_mean_squared_error: 0.1350\n",
            "Epoch 25/50\n",
            "\u001b[1m73/73\u001b[0m \u001b[32m━━━━━━━━━━━━━━━━━━━━\u001b[0m\u001b[37m\u001b[0m \u001b[1m10s\u001b[0m 63ms/step - loss: 0.0993 - root_mean_squared_error: 0.1331\n",
            "Epoch 26/50\n",
            "\u001b[1m73/73\u001b[0m \u001b[32m━━━━━━━━━━━━━━━━━━━━\u001b[0m\u001b[37m\u001b[0m \u001b[1m5s\u001b[0m 61ms/step - loss: 0.0980 - root_mean_squared_error: 0.1314\n",
            "Epoch 27/50\n",
            "\u001b[1m73/73\u001b[0m \u001b[32m━━━━━━━━━━━━━━━━━━━━\u001b[0m\u001b[37m\u001b[0m \u001b[1m5s\u001b[0m 54ms/step - loss: 0.0944 - root_mean_squared_error: 0.1277\n",
            "Epoch 28/50\n",
            "\u001b[1m73/73\u001b[0m \u001b[32m━━━━━━━━━━━━━━━━━━━━\u001b[0m\u001b[37m\u001b[0m \u001b[1m6s\u001b[0m 71ms/step - loss: 0.0988 - root_mean_squared_error: 0.1346\n",
            "Epoch 29/50\n",
            "\u001b[1m73/73\u001b[0m \u001b[32m━━━━━━━━━━━━━━━━━━━━\u001b[0m\u001b[37m\u001b[0m \u001b[1m4s\u001b[0m 55ms/step - loss: 0.0950 - root_mean_squared_error: 0.1269\n",
            "Epoch 30/50\n",
            "\u001b[1m73/73\u001b[0m \u001b[32m━━━━━━━━━━━━━━━━━━━━\u001b[0m\u001b[37m\u001b[0m \u001b[1m4s\u001b[0m 54ms/step - loss: 0.0942 - root_mean_squared_error: 0.1265\n",
            "Epoch 31/50\n",
            "\u001b[1m73/73\u001b[0m \u001b[32m━━━━━━━━━━━━━━━━━━━━\u001b[0m\u001b[37m\u001b[0m \u001b[1m5s\u001b[0m 70ms/step - loss: 0.0990 - root_mean_squared_error: 0.1313\n",
            "Epoch 32/50\n",
            "\u001b[1m73/73\u001b[0m \u001b[32m━━━━━━━━━━━━━━━━━━━━\u001b[0m\u001b[37m\u001b[0m \u001b[1m4s\u001b[0m 54ms/step - loss: 0.0943 - root_mean_squared_error: 0.1272\n",
            "Epoch 33/50\n",
            "\u001b[1m73/73\u001b[0m \u001b[32m━━━━━━━━━━━━━━━━━━━━\u001b[0m\u001b[37m\u001b[0m \u001b[1m5s\u001b[0m 58ms/step - loss: 0.0956 - root_mean_squared_error: 0.1298\n",
            "Epoch 34/50\n",
            "\u001b[1m73/73\u001b[0m \u001b[32m━━━━━━━━━━━━━━━━━━━━\u001b[0m\u001b[37m\u001b[0m \u001b[1m6s\u001b[0m 65ms/step - loss: 0.0961 - root_mean_squared_error: 0.1281\n",
            "Epoch 35/50\n",
            "\u001b[1m73/73\u001b[0m \u001b[32m━━━━━━━━━━━━━━━━━━━━\u001b[0m\u001b[37m\u001b[0m \u001b[1m4s\u001b[0m 54ms/step - loss: 0.1006 - root_mean_squared_error: 0.1351\n",
            "Epoch 36/50\n",
            "\u001b[1m73/73\u001b[0m \u001b[32m━━━━━━━━━━━━━━━━━━━━\u001b[0m\u001b[37m\u001b[0m \u001b[1m6s\u001b[0m 71ms/step - loss: 0.0982 - root_mean_squared_error: 0.1336\n",
            "Epoch 37/50\n",
            "\u001b[1m73/73\u001b[0m \u001b[32m━━━━━━━━━━━━━━━━━━━━\u001b[0m\u001b[37m\u001b[0m \u001b[1m4s\u001b[0m 54ms/step - loss: 0.0981 - root_mean_squared_error: 0.1306\n",
            "Epoch 38/50\n",
            "\u001b[1m73/73\u001b[0m \u001b[32m━━━━━━━━━━━━━━━━━━━━\u001b[0m\u001b[37m\u001b[0m \u001b[1m4s\u001b[0m 54ms/step - loss: 0.0963 - root_mean_squared_error: 0.1299\n",
            "Epoch 39/50\n",
            "\u001b[1m73/73\u001b[0m \u001b[32m━━━━━━━━━━━━━━━━━━━━\u001b[0m\u001b[37m\u001b[0m \u001b[1m5s\u001b[0m 71ms/step - loss: 0.0911 - root_mean_squared_error: 0.1219\n",
            "Epoch 40/50\n",
            "\u001b[1m73/73\u001b[0m \u001b[32m━━━━━━━━━━━━━━━━━━━━\u001b[0m\u001b[37m\u001b[0m \u001b[1m4s\u001b[0m 54ms/step - loss: 0.0973 - root_mean_squared_error: 0.1323\n",
            "Epoch 41/50\n",
            "\u001b[1m73/73\u001b[0m \u001b[32m━━━━━━━━━━━━━━━━━━━━\u001b[0m\u001b[37m\u001b[0m \u001b[1m6s\u001b[0m 60ms/step - loss: 0.1000 - root_mean_squared_error: 0.1338\n",
            "Epoch 42/50\n",
            "\u001b[1m73/73\u001b[0m \u001b[32m━━━━━━━━━━━━━━━━━━━━\u001b[0m\u001b[37m\u001b[0m \u001b[1m5s\u001b[0m 58ms/step - loss: 0.0935 - root_mean_squared_error: 0.1292\n",
            "Epoch 43/50\n",
            "\u001b[1m73/73\u001b[0m \u001b[32m━━━━━━━━━━━━━━━━━━━━\u001b[0m\u001b[37m\u001b[0m \u001b[1m4s\u001b[0m 54ms/step - loss: 0.1030 - root_mean_squared_error: 0.1418\n",
            "Epoch 44/50\n",
            "\u001b[1m73/73\u001b[0m \u001b[32m━━━━━━━━━━━━━━━━━━━━\u001b[0m\u001b[37m\u001b[0m \u001b[1m6s\u001b[0m 71ms/step - loss: 0.0932 - root_mean_squared_error: 0.1297\n",
            "Epoch 45/50\n",
            "\u001b[1m73/73\u001b[0m \u001b[32m━━━━━━━━━━━━━━━━━━━━\u001b[0m\u001b[37m\u001b[0m \u001b[1m9s\u001b[0m 55ms/step - loss: 0.0952 - root_mean_squared_error: 0.1264\n",
            "Epoch 46/50\n",
            "\u001b[1m73/73\u001b[0m \u001b[32m━━━━━━━━━━━━━━━━━━━━\u001b[0m\u001b[37m\u001b[0m \u001b[1m5s\u001b[0m 71ms/step - loss: 0.0973 - root_mean_squared_error: 0.1311\n",
            "Epoch 47/50\n",
            "\u001b[1m73/73\u001b[0m \u001b[32m━━━━━━━━━━━━━━━━━━━━\u001b[0m\u001b[37m\u001b[0m \u001b[1m4s\u001b[0m 55ms/step - loss: 0.0924 - root_mean_squared_error: 0.1266\n",
            "Epoch 48/50\n",
            "\u001b[1m73/73\u001b[0m \u001b[32m━━━━━━━━━━━━━━━━━━━━\u001b[0m\u001b[37m\u001b[0m \u001b[1m4s\u001b[0m 55ms/step - loss: 0.0980 - root_mean_squared_error: 0.1360\n",
            "Epoch 49/50\n",
            "\u001b[1m73/73\u001b[0m \u001b[32m━━━━━━━━━━━━━━━━━━━━\u001b[0m\u001b[37m\u001b[0m \u001b[1m5s\u001b[0m 69ms/step - loss: 0.0922 - root_mean_squared_error: 0.1250\n",
            "Epoch 50/50\n",
            "\u001b[1m73/73\u001b[0m \u001b[32m━━━━━━━━━━━━━━━━━━━━\u001b[0m\u001b[37m\u001b[0m \u001b[1m4s\u001b[0m 55ms/step - loss: 0.0977 - root_mean_squared_error: 0.1351\n"
          ]
        }
      ]
    },
    {
      "cell_type": "code",
      "source": [
        "test_data = scaled_data[training_data_len - 60:]\n",
        "X_test, y_test = [], dataset[training_data_len:]\n",
        "\n",
        "\n",
        "for i in range(60, len(test_data)):\n",
        "    X_test.append(test_data[i-60:i, :])\n",
        "\n",
        "X_test = np.array(X_test)\n",
        "X_test = np.reshape(X_test, (X_test.shape[0],X_test.shape[1],4 ))\n",
        "\n",
        "print(X_test.shape)\n",
        "print(X_test[:5])\n",
        "print(y_test.shape)\n",
        "print(y_test[:5])"
      ],
      "metadata": {
        "colab": {
          "base_uri": "https://localhost:8080/"
        },
        "id": "1aIM69itpmn5",
        "outputId": "3dd2de6c-bfba-4976-c3a5-bf31dd085915"
      },
      "execution_count": 98,
      "outputs": [
        {
          "output_type": "stream",
          "name": "stdout",
          "text": [
            "(125, 60, 4)\n",
            "[[[1.74029289 1.75009557 1.76871199 1.75559102]\n",
            "  [1.75581799 1.74682488 1.75753195 1.76592973]\n",
            "  [1.76760561 1.75009549 1.7549185  1.75903726]\n",
            "  ...\n",
            "  [1.8867822  1.92707951 1.90184089 1.94966535]\n",
            "  [1.94923848 1.97277465 1.98062252 1.99379687]\n",
            "  [1.99097203 1.9675075  1.99297752 1.99192808]]\n",
            "\n",
            " [[1.75581799 1.74682488 1.75753195 1.76592973]\n",
            "  [1.76760561 1.75009549 1.7549185  1.75903726]\n",
            "  [1.75581793 1.75805844 1.78903901 1.7784222 ]\n",
            "  ...\n",
            "  [1.94923848 1.97277465 1.98062252 1.99379687]\n",
            "  [1.99097203 1.9675075  1.99297752 1.99192808]\n",
            "  [1.99831153 1.9793228  2.01216434 1.99767804]]\n",
            "\n",
            " [[1.76760561 1.75009549 1.7549185  1.75903726]\n",
            "  [1.75581793 1.75805844 1.78903901 1.7784222 ]\n",
            "  [1.80469347 1.79403419 1.81343187 1.82150025]\n",
            "  ...\n",
            "  [1.99097203 1.9675075  1.99297752 1.99192808]\n",
            "  [1.99831153 1.9793228  2.01216434 1.99767804]\n",
            "  [2.00234088 1.99028393 2.0285891  2.01147815]]\n",
            "\n",
            " [[1.75581793 1.75805844 1.78903901 1.7784222 ]\n",
            "  [1.80469347 1.79403419 1.81343187 1.82150025]\n",
            "  [1.83157476 1.82702378 1.86555649 1.85294713]\n",
            "  ...\n",
            "  [1.99831153 1.9793228  2.01216434 1.99767804]\n",
            "  [2.00234088 1.99028393 2.0285891  2.01147815]\n",
            "  [2.01687565 2.01747338 2.04210717 2.00745318]]\n",
            "\n",
            " [[1.80469347 1.79403419 1.81343187 1.82150025]\n",
            "  [1.83157476 1.82702378 1.86555649 1.85294713]\n",
            "  [1.84796232 1.82873003 1.87252573 1.85108032]\n",
            "  ...\n",
            "  [2.00234088 1.99028393 2.0285891  2.01147815]\n",
            "  [2.01687565 2.01747338 2.04210717 2.00745318]\n",
            "  [2.00219688 2.01989336 2.03047882 2.02973465]]]\n",
            "(125, 4)\n",
            "[[244.06260076 245.40929524 242.56626341 244.27207947]\n",
            " [244.34191013 246.17741358 243.69348816 245.22973633]\n",
            " [245.34944139 248.0827564  244.62122815 244.95042419]\n",
            " [244.33192833 248.25234006 243.82317911 246.49664307]\n",
            " [247.39444545 249.38956195 244.31199412 246.43678284]]\n"
          ]
        }
      ]
    },
    {
      "cell_type": "code",
      "source": [
        "predictions = model.predict(X_test)\n",
        "\n",
        "\n",
        "dummy_array = np.zeros((predictions.shape[0], dataset.shape[1]))\n",
        "\n",
        "\n",
        "dummy_array[:, 0] = predictions[:, 0]\n",
        "\n",
        "\n",
        "predictions = scaler.inverse_transform(dummy_array)[:, 0]\n",
        "print(predictions[:5])\n",
        "print(y_test[:5])"
      ],
      "metadata": {
        "colab": {
          "base_uri": "https://localhost:8080/"
        },
        "id": "DeECRNOepr8S",
        "outputId": "18878c97-cd8c-43c9-d315-0fffbd3e90e0"
      },
      "execution_count": 99,
      "outputs": [
        {
          "output_type": "stream",
          "name": "stdout",
          "text": [
            "\u001b[1m4/4\u001b[0m \u001b[32m━━━━━━━━━━━━━━━━━━━━\u001b[0m\u001b[37m\u001b[0m \u001b[1m1s\u001b[0m 113ms/step\n",
            "[240.88263258 241.97664499 242.73691387 243.10280215 243.62267124]\n",
            "[[244.06260076 245.40929524 242.56626341 244.27207947]\n",
            " [244.34191013 246.17741358 243.69348816 245.22973633]\n",
            " [245.34944139 248.0827564  244.62122815 244.95042419]\n",
            " [244.33192833 248.25234006 243.82317911 246.49664307]\n",
            " [247.39444545 249.38956195 244.31199412 246.43678284]]\n"
          ]
        }
      ]
    },
    {
      "cell_type": "code",
      "source": [
        "train = data[:training_data_len]\n",
        "test = data[training_data_len:]\n",
        "\n",
        "test = test.copy()\n",
        "\n",
        "\n",
        "test = test[1:]\n",
        "\n",
        "test['Predictions'] = predictions\n",
        "\n",
        "plt.figure(figsize=(12,8))\n",
        "plt.plot(train['Date'], train['Close'], label=\"Train(Actual)\", color=\"blue\")\n",
        "plt.plot(test['Date'], test['Close'], label=\"Test(Actual)\", color=\"orange\")\n",
        "plt.plot(test['Date'], test['Predictions'], label=\"Predictions\", color=\"red\")\n",
        "plt.title(\"Our Stock Prediction\")\n",
        "plt.xlabel(\"Date\")\n",
        "plt.ylabel(\"Close Price\")\n",
        "plt.legend()\n",
        "plt.show()"
      ],
      "metadata": {
        "colab": {
          "base_uri": "https://localhost:8080/",
          "height": 647
        },
        "id": "NYX1Y3hip4Q1",
        "outputId": "dcae5763-86ab-4268-f232-a6ab4b2b3493"
      },
      "execution_count": 100,
      "outputs": [
        {
          "output_type": "display_data",
          "data": {
            "text/plain": [
              "<Figure size 1200x800 with 1 Axes>"
            ],
            "image/png": "[encoded data removed]"
          },
          "metadata": {}
        }
      ]
    },
    {
      "cell_type": "markdown",
      "source": [
        "Testing the prediction\n"
      ],
      "metadata": {
        "id": "H-8V9RR3shrB"
      }
    },
    {
      "cell_type": "code",
      "source": [
        "latest_60 = data.tail(60)\n",
        "print(latest_60.head())"
      ],
      "metadata": {
        "colab": {
          "base_uri": "https://localhost:8080/"
        },
        "id": "oLCWOCF2rLif",
        "outputId": "bf9d1b65-e629-44c5-9c18-2304b19d725c"
      },
      "execution_count": 83,
      "outputs": [
        {
          "output_type": "stream",
          "name": "stdout",
          "text": [
            "           Date       Close        High         Low        Open      Volume\n",
            "2456 2025-05-22  454.859985  460.250000  453.899994  454.950012  18025600.0\n",
            "2457 2025-05-23  450.179993  453.690002  448.910004  449.980011  16883500.0\n",
            "2458 2025-05-27  460.690002  460.950012  456.119995  456.480011  20974300.0\n",
            "2459 2025-05-28  457.359985  462.519989  456.929993  461.220001  17086300.0\n",
            "2460 2025-05-29  458.679993  461.720001  455.309998  461.549988  13974800.0\n"
          ]
        }
      ]
    },
    {
      "cell_type": "code",
      "source": [
        "latest_60_features = latest_60[['Open', 'High', 'Low', 'Close']]\n",
        "latest_60_features = latest_60_features.fillna(method='ffill')\n",
        "latest_60_features = latest_60_features.dropna()\n",
        "print(latest_60.head())"
      ],
      "metadata": {
        "colab": {
          "base_uri": "https://localhost:8080/"
        },
        "id": "HAuywiAWsTvm",
        "outputId": "80e95f4b-c941-482b-ceb6-9afe1080b5a4"
      },
      "execution_count": 101,
      "outputs": [
        {
          "output_type": "stream",
          "name": "stdout",
          "text": [
            "           Date       Close        High         Low        Open      Volume\n",
            "2456 2025-05-22  454.859985  460.250000  453.899994  454.950012  18025600.0\n",
            "2457 2025-05-23  450.179993  453.690002  448.910004  449.980011  16883500.0\n",
            "2458 2025-05-27  460.690002  460.950012  456.119995  456.480011  20974300.0\n",
            "2459 2025-05-28  457.359985  462.519989  456.929993  461.220001  17086300.0\n",
            "2460 2025-05-29  458.679993  461.720001  455.309998  461.549988  13974800.0\n"
          ]
        },
        {
          "output_type": "stream",
          "name": "stderr",
          "text": [
            "/tmp/ipython-input-2895298810.py:2: FutureWarning: DataFrame.fillna with 'method' is deprecated and will raise in a future version. Use obj.ffill() or obj.bfill() instead.\n",
            "  latest_60_features = latest_60_features.fillna(method='ffill')\n"
          ]
        }
      ]
    },
    {
      "cell_type": "code",
      "source": [
        "X_input = latest_60_features.values\n",
        "print(X_input.shape)"
      ],
      "metadata": {
        "colab": {
          "base_uri": "https://localhost:8080/"
        },
        "id": "7q0qIirUskEK",
        "outputId": "d2b66d6b-323b-4127-c316-7189c0a7b804"
      },
      "execution_count": 102,
      "outputs": [
        {
          "output_type": "stream",
          "name": "stdout",
          "text": [
            "(60, 4)\n"
          ]
        }
      ]
    },
    {
      "cell_type": "code",
      "source": [
        "scaled_input = scaler.transform(X_input)"
      ],
      "metadata": {
        "id": "14GS0GHVsoma"
      },
      "execution_count": 103,
      "outputs": []
    },
    {
      "cell_type": "code",
      "source": [
        "# Reshape the last 60 days for model input\n",
        "X_input_reshaped = scaled_input.reshape(1, 60, 4)\n",
        "\n",
        "#  Predict using your trained model\n",
        "prediction_scaled = model.predict(X_input_reshaped)  # shape: (1,1)\n",
        "print(\"Scaled prediction:\", prediction_scaled)\n",
        "\n",
        "print(\"prediction scaled shape\",prediction_scaled.shape)\n",
        "print(\"dataset shape\",dataset.shape)\n",
        "# Create dummy array to match scaler shape\n",
        "dummy_array = np.zeros((prediction_scaled.shape[0], dataset.shape[1]))  # 4 columns\n",
        "print(\"dummy array shape\",dummy_array.shape)\n",
        "dummy_array[:, 3] = prediction_scaled[:, 0]  # put predicted Close in 4th column\n",
        "print(\"dummy array shape\",dummy_array)\n",
        "\n",
        "# Inverse transform to original scale\n",
        "prediction_real = scaler.inverse_transform(dummy_array)[:, 3]  # take only Close column\n",
        "print(\"Predicted Close price:\", prediction_real)"
      ],
      "metadata": {
        "colab": {
          "base_uri": "https://localhost:8080/"
        },
        "id": "R-uugJPRsq1j",
        "outputId": "4601642b-0e8f-4871-b277-b2775042c208"
      },
      "execution_count": 104,
      "outputs": [
        {
          "output_type": "stream",
          "name": "stdout",
          "text": [
            "\u001b[1m1/1\u001b[0m \u001b[32m━━━━━━━━━━━━━━━━━━━━\u001b[0m\u001b[37m\u001b[0m \u001b[1m0s\u001b[0m 40ms/step\n",
            "Scaled prediction: [[5.035248]]\n",
            "prediction scaled shape (1, 1)\n",
            "dataset shape (2515, 4)\n",
            "dummy array shape (1, 4)\n",
            "dummy array shape [[0.        0.        0.        5.0352478]]\n",
            "Predicted Close price: [455.06376553]\n"
          ]
        }
      ]
    },
    {
      "cell_type": "code",
      "source": [
        "model.save(f'AAPL_model.h5')"
      ],
      "metadata": {
        "colab": {
          "base_uri": "https://localhost:8080/"
        },
        "id": "H3CQr1BAtP0j",
        "outputId": "cc8b2327-b90e-464b-d7c0-43e9e5ef8cb5"
      },
      "execution_count": 105,
      "outputs": [
        {
          "output_type": "stream",
          "name": "stderr",
          "text": [
            "WARNING:absl:You are saving your model as an HDF5 file via `model.save()` or `keras.saving.save_model(model)`. This file format is considered legacy. We recommend using instead the native Keras format, e.g. `model.save('my_model.keras')` or `keras.saving.save_model(model, 'my_model.keras')`. \n"
          ]
        }
      ]
    }
  ]
}